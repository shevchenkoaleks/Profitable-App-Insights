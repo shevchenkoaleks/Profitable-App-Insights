{
 "cells": [
  {
   "cell_type": "markdown",
   "id": "5dadbaa0-9bb4-459c-a1cc-2995a6977b7d",
   "metadata": {
    "jp-MarkdownHeadingCollapsed": true
   },
   "source": [
    "# Profitable App Profiles for the App Store and Google Play Markets\r\n",
    "\r\n",
    "**Our goal:** Identify the characteristics of mobile apps that are likely to be profitable in the App Store and Google Play.\r\n",
    "\r\n",
    "**Our role:** We serve as data analysts for a company that develops mobile apps for Android and iOS. Our task is to assist the development team in making data-driven decisions about the types of apps they should build.\r\n",
    "\r\n",
    "**Monetization model:** Our company's apps are free to download and install. The primary source of revenue is in-app advertising. Therefore, the revenue from a particular app is directly dependent on the number of users.\r\n",
    "\r\n",
    "**Project goal:** Analyze data to help developers understand what types of apps are likely to attract more users."
   ]
  },
  {
   "cell_type": "markdown",
   "id": "19f7081e-dd60-4b9f-bbad-4159f449d17d",
   "metadata": {},
   "source": [
    "# Opening and Exploring the Data\r\n",
    "\r\n",
    "In September 2018, the App Store boasted around 2 million iOS applications, while Google Play offered 2.1 million Android apps.\r\n",
    "![Image](https://s3.amazonaws.com/dq-content/350/py1m8_statista.png) Source: [Statista](https://www.statista.com/statistics/276623/number-of-apps-available-in-leading-app-stores/)\r\n",
    "\r\n",
    "Instead of gathering information for millions of apps, which would be expensive and time-consuming, let's look for existing data that might be helpful. Thankfully, we've found two relevant datasets:\r\n",
    "\r\n",
    "* [A dataset](https://www.kaggle.com/lava18/google-play-store-apps) with information on roughly ten thousand Android apps from Google Play\r\n",
    "* [A dataset](https://www.kaggle.com/ramamet4/app-store-apple-data-set-10k-apps) with data on about seven thousand iOS apps from the App Store.\r\n",
    "\r\n",
    "Before diving into collecting our own data, let's explore these existing resources to see if they meet our needs."
   ]
  },
  {
   "cell_type": "code",
   "execution_count": 7,
   "id": "8eb35300-a964-45fd-a0d7-1bc8d272af70",
   "metadata": {},
   "outputs": [],
   "source": [
    "from csv import reader\n",
    "\n",
    "### The App Store dataset ###\n",
    "opened_ios = open('AppleStore.csv', encoding='utf8')\n",
    "read_ios = reader(opened_ios)\n",
    "ios = list(read_ios)\n",
    "ios_header = ios[0]\n",
    "ios_data = ios[1:]\n",
    "\n",
    "### The Google Play dataset ###\n",
    "opened_android = open('googleplaystore.csv', encoding='utf8')\n",
    "read_android = reader(opened_android)\n",
    "android = list(read_android)\n",
    "android_header = android[0]\n",
    "android_data = android[1:]"
   ]
  },
  {
   "cell_type": "markdown",
   "id": "aa94dd2c-0e27-4f41-9202-06fa3a316b01",
   "metadata": {},
   "source": [
    "To simplify our analysis of these datasets, we'll create a reusable function called `explore_data()`. This function will display data rows in a clear format, making it easier to understand. We can even design it to show the number of rows and columns within any dataset we pass through it."
   ]
  },
  {
   "cell_type": "code",
   "execution_count": 9,
   "id": "ac94602f-961a-41b3-a44c-ef227f7b25f6",
   "metadata": {},
   "outputs": [
    {
     "name": "stdout",
     "output_type": "stream",
     "text": [
      "['id', 'track_name', 'size_bytes', 'currency', 'price', 'rating_count_tot', 'rating_count_ver', 'user_rating', 'user_rating_ver', 'ver', 'cont_rating', 'prime_genre', 'sup_devices.num', 'ipadSc_urls.num', 'lang.num', 'vpp_lic']\n",
      "\n",
      "\n",
      "['284882215', 'Facebook', '389879808', 'USD', '0.0', '2974676', '212', '3.5', '3.5', '95.0', '4+', 'Social Networking', '37', '1', '29', '1']\n",
      "\n",
      "\n",
      "['389801252', 'Instagram', '113954816', 'USD', '0.0', '2161558', '1289', '4.5', '4.0', '10.23', '12+', 'Photo & Video', '37', '0', '29', '1']\n",
      "\n",
      "\n",
      "['529479190', 'Clash of Clans', '116476928', 'USD', '0.0', '2130805', '579', '4.5', '4.5', '9.24.12', '9+', 'Games', '38', '5', '18', '1']\n",
      "\n",
      "\n",
      "Number of rows: 7197\n",
      "Number of columns: 16\n"
     ]
    }
   ],
   "source": [
    "def explore_data(dataset, start, end, header = False):\n",
    "    data_slice = dataset[start:end]\n",
    "    for row in data_slice:\n",
    "        print(row)\n",
    "        print('\\n')\n",
    "    \n",
    "    if header:\n",
    "        print('Number of rows:', len(dataset))\n",
    "        print('Number of columns:', len(dataset[0]))\n",
    "\n",
    "print(ios_header)\n",
    "print('\\n')\n",
    "explore_data(ios_data, 0, 3, True)"
   ]
  },
  {
   "cell_type": "markdown",
   "id": "d906fc9a-6ebe-4782-87a7-9dd2570f19ab",
   "metadata": {},
   "source": [
    "This dataset contains information on 7197 iOS apps. The following columns are of particular interest:\n",
    "`track_name`, `currency price`,  `rating_count_tot`, `rating_count_ver` and `prime_genre`.\n",
    "While not all column names are immediately clear, the dataset [documentation](https://www.kaggle.com/ramamet4/app-store-apple-data-set-10k-apps/home) provides detailed information about each one.\n",
    "\n",
    "Now let's take a look at the Google Play dataset."
   ]
  },
  {
   "cell_type": "code",
   "execution_count": 11,
   "id": "2801085e-fa87-4812-9ad5-eea33ef26c90",
   "metadata": {},
   "outputs": [
    {
     "name": "stdout",
     "output_type": "stream",
     "text": [
      "['App', 'Category', 'Rating', 'Reviews', 'Size', 'Installs', 'Type', 'Price', 'Content Rating', 'Genres', 'Last Updated', 'Current Ver', 'Android Ver']\n",
      "\n",
      "\n",
      "['Photo Editor & Candy Camera & Grid & ScrapBook', 'ART_AND_DESIGN', '4.1', '159', '19M', '10,000+', 'Free', '0', 'Everyone', 'Art & Design', 'January 7, 2018', '1.0.0', '4.0.3 and up']\n",
      "\n",
      "\n",
      "['Coloring book moana', 'ART_AND_DESIGN', '3.9', '967', '14M', '500,000+', 'Free', '0', 'Everyone', 'Art & Design;Pretend Play', 'January 15, 2018', '2.0.0', '4.0.3 and up']\n",
      "\n",
      "\n",
      "['U Launcher Lite – FREE Live Cool Themes, Hide Apps', 'ART_AND_DESIGN', '4.7', '87510', '8.7M', '5,000,000+', 'Free', '0', 'Everyone', 'Art & Design', 'August 1, 2018', '1.2.4', '4.0.3 and up']\n",
      "\n",
      "\n",
      "Number of rows: 10841\n",
      "Number of columns: 13\n"
     ]
    }
   ],
   "source": [
    "print(android_header)\n",
    "print('\\n')\n",
    "explore_data(android_data, 0, 3, True)"
   ]
  },
  {
   "cell_type": "markdown",
   "id": "40379960-f914-4cf7-94ac-d81856affaaf",
   "metadata": {},
   "source": [
    "The Google Play dataset holds information for 10,841 apps across 13 columns. Upon initial inspection, some columns seem particularly relevant for our analysis, including `App`, `Category`, `Reviews`, `Installs`, `Type`, `Price`, and `Genres`."
   ]
  },
  {
   "cell_type": "markdown",
   "id": "6f399c4c-1db7-4b8f-b70c-2513d450384e",
   "metadata": {},
   "source": [
    "# Deleting Wrong Data\n",
    "The Google Play data set includes a [discussion section](https://www.kaggle.com/datasets/lava18/google-play-store-apps/discussion/66015) where users [reported](https://www.kaggle.com/datasets/lava18/google-play-store-apps/discussion/66015) an error in row 10472. To verify this, we can print the contents of row 10472 and compare it to the data set header and another valid row."
   ]
  },
  {
   "cell_type": "code",
   "execution_count": 14,
   "id": "095da92b-d7a7-4f81-a1bd-6153fd0787c2",
   "metadata": {},
   "outputs": [
    {
     "name": "stdout",
     "output_type": "stream",
     "text": [
      "['Life Made WI-Fi Touchscreen Photo Frame', '1.9', '19', '3.0M', '1,000+', 'Free', '0', 'Everyone', '', 'February 11, 2018', '1.0.19', '4.0 and up']\n",
      "\n",
      "\n",
      "['App', 'Category', 'Rating', 'Reviews', 'Size', 'Installs', 'Type', 'Price', 'Content Rating', 'Genres', 'Last Updated', 'Current Ver', 'Android Ver']\n",
      "\n",
      "\n",
      "['Sketch - Draw & Paint', 'ART_AND_DESIGN', '4.5', '215644', '25M', '50,000,000+', 'Free', '0', 'Teen', 'Art & Design', 'June 8, 2018', 'Varies with device', '4.2 and up']\n"
     ]
    }
   ],
   "source": [
    "print(android_data[10472])  # incorrect row\n",
    "print('\\n')\n",
    "print(android_header)  # header\n",
    "print('\\n')\n",
    "print(android_data[3])      # correct row"
   ]
  },
  {
   "cell_type": "markdown",
   "id": "e0804958-5a5c-4a94-ab68-059ef332d36c",
   "metadata": {},
   "source": [
    "We identified an anomaly in row 10472, representing the **Life Made WI-Fi Touchscreen Photo Frame** app. The rating listed as 19 is clearly invalid as Google Play ratings only go up to 5 stars. Discussions within the dataset indicate this might be caused by a missing value in the `Category` column. Consequently, we'll delete this row to ensure data integrity."
   ]
  },
  {
   "cell_type": "code",
   "execution_count": 16,
   "id": "82fb4d07-887a-46d5-8594-0fadf19fe444",
   "metadata": {},
   "outputs": [
    {
     "name": "stdout",
     "output_type": "stream",
     "text": [
      "10841\n",
      "10840\n"
     ]
    }
   ],
   "source": [
    "print(len(android_data))\n",
    "del android_data[10472]  # don't run this more than once\n",
    "print(len(android_data))"
   ]
  },
  {
   "cell_type": "markdown",
   "id": "7dcc6501-6ff1-4709-b03c-1c2c598a20ae",
   "metadata": {},
   "source": [
    "# Removing Duplicate Entries\n",
    "\n",
    "## Part One"
   ]
  },
  {
   "cell_type": "markdown",
   "id": "d75fc644-9b8a-4518-9bb9-c83276c66d62",
   "metadata": {},
   "source": [
    "If we explore the Google Play data set long enough, we'll find that some apps have more than one entry. For instance, the application Instagram has four entries:"
   ]
  },
  {
   "cell_type": "code",
   "execution_count": 19,
   "id": "f964c02d-65b7-4f45-94b3-aaf672a6cb1c",
   "metadata": {},
   "outputs": [
    {
     "name": "stdout",
     "output_type": "stream",
     "text": [
      "['Instagram', 'SOCIAL', '4.5', '66577313', 'Varies with device', '1,000,000,000+', 'Free', '0', 'Teen', 'Social', 'July 31, 2018', 'Varies with device', 'Varies with device']\n",
      "['Instagram', 'SOCIAL', '4.5', '66577446', 'Varies with device', '1,000,000,000+', 'Free', '0', 'Teen', 'Social', 'July 31, 2018', 'Varies with device', 'Varies with device']\n",
      "['Instagram', 'SOCIAL', '4.5', '66577313', 'Varies with device', '1,000,000,000+', 'Free', '0', 'Teen', 'Social', 'July 31, 2018', 'Varies with device', 'Varies with device']\n",
      "['Instagram', 'SOCIAL', '4.5', '66509917', 'Varies with device', '1,000,000,000+', 'Free', '0', 'Teen', 'Social', 'July 31, 2018', 'Varies with device', 'Varies with device']\n"
     ]
    }
   ],
   "source": [
    "for app in android_data:\n",
    "    name = app[0]\n",
    "    if name == 'Instagram':\n",
    "        print(app)"
   ]
  },
  {
   "cell_type": "markdown",
   "id": "49c633f8-48c4-45e7-9fea-0c1b3e63454a",
   "metadata": {},
   "source": [
    "In total, there are 1,181 cases where an app occurs more than once:"
   ]
  },
  {
   "cell_type": "code",
   "execution_count": 21,
   "id": "a3a231da-b02f-460b-9c91-40ce625c801f",
   "metadata": {},
   "outputs": [
    {
     "name": "stdout",
     "output_type": "stream",
     "text": [
      "Number of duplicate apps: 1181\n",
      "\n",
      "\n",
      "Examples of duplicate apps: ['Quick PDF Scanner + OCR FREE', 'Box', 'Google My Business', 'ZOOM Cloud Meetings', 'join.me - Simple Meetings', 'Box', 'Zenefits', 'Google Ads', 'Google My Business', 'Slack', 'FreshBooks Classic', 'Insightly CRM', 'QuickBooks Accounting: Invoicing & Expenses', 'HipChat - Chat Built for Teams', 'Xero Accounting Software']\n"
     ]
    }
   ],
   "source": [
    "unique_apps = []\n",
    "duplicate_apps = []\n",
    "\n",
    "for app in android_data:\n",
    "    name = app[0]\n",
    "    if name in unique_apps:\n",
    "        duplicate_apps.append(name)\n",
    "    else:\n",
    "        unique_apps.append(name)\n",
    "\n",
    "print('Number of duplicate apps:', len(duplicate_apps))\n",
    "print('\\n')\n",
    "print('Examples of duplicate apps:', duplicate_apps[:15])"
   ]
  },
  {
   "cell_type": "markdown",
   "id": "4e640feb-6895-47f4-919f-ef113c45313a",
   "metadata": {},
   "source": [
    "To ensure accurate analysis, we need to remove duplicate app entries and keep only one record per app. While randomly removing duplicates is an option, a more effective approach exists.\n",
    "\n",
    "As observed in the previously printed rows for the Instagram app, the key difference lies in the fourth position (number of reviews). These variations indicate data collection at different times. We can leverage this insight to establish a retention criterion.\n",
    "\n",
    "Instead of random removal, we'll prioritize rows with the highest number of reviews. This prioritizes data with potentially greater reliability due to the larger review pool.\n",
    "\n",
    "Our strategy involves:\n",
    "\n",
    "* Creating a dictionary: Each key represents a unique app name, and the value stores the highest number of reviews for that app.\n",
    "* Building a new data set: Using the dictionary, we'll create a refined data set with only one entry per app, containing entries with the highest number of reviews."
   ]
  },
  {
   "cell_type": "markdown",
   "id": "474bbbd2-e44a-4ec3-ad7b-1998a0f9b9e2",
   "metadata": {},
   "source": [
    "## Part Two\n",
    "Let's start by building the dictionary."
   ]
  },
  {
   "cell_type": "code",
   "execution_count": 24,
   "id": "10bd4847-edd0-4b00-956c-71d576eb7620",
   "metadata": {},
   "outputs": [],
   "source": [
    "reviews_max = {}\n",
    "\n",
    "for app in android_data:\n",
    "    name = app[0]\n",
    "    n_reviews = float(app[3])\n",
    "\n",
    "    if name in reviews_max and reviews_max[name] < n_reviews:\n",
    "        reviews_max[name] = n_reviews\n",
    "    elif name not in reviews_max:\n",
    "        reviews_max[name] = n_reviews\n",
    "        "
   ]
  },
  {
   "cell_type": "markdown",
   "id": "02b718fc-8efc-4e85-871a-2b8bd46fdde2",
   "metadata": {},
   "source": [
    "Previously, we identified 1,181 instances where an app appeared multiple times in the data. Therefore, the length of our unique app dictionary should be the total length of the data set minus 1,181."
   ]
  },
  {
   "cell_type": "code",
   "execution_count": 26,
   "id": "3d219cc8-a998-4ef8-b9ef-ac541cfb54b7",
   "metadata": {},
   "outputs": [
    {
     "name": "stdout",
     "output_type": "stream",
     "text": [
      "Expected length: 9659\n",
      "Actual length: 9659\n"
     ]
    }
   ],
   "source": [
    "print('Expected length:', len(android_data) - 1181)\n",
    "print('Actual length:', len(reviews_max))"
   ]
  },
  {
   "cell_type": "markdown",
   "id": "c10d0f2e-2534-4858-9673-61360a00dfa2",
   "metadata": {},
   "source": [
    "Now, we'll utilize the `reviews_max` dictionary to filter out duplicate app entries. We'll retain only entries with the highest number of reviews for each duplicate app.\n",
    "\n",
    "The code below outlines this process:\n",
    "\n",
    "* We create two empty lists, `android_clean` and `already_added`.\n",
    "* We loop through each entry in the `android` data set. For each iteration:\n",
    "    + we extract the app name and its corresponding number of reviews.\n",
    "    + we add the current row (`app`) to the `android_clean` list and its `name` to the `already_added` list under two conditions:\n",
    "        - The current app's review count must match the highest review count for that app stored in the `reviews_max` dictionary; and\n",
    "        - The app name must not already be present in the `already_added list`. This additional check handles cases where multiple entries for an app have the same highest review count. Relying solely on `reviews_max[name] == n_reviews` would introduce duplicate entries in such scenarios (e.g., the \"Box\" app with three entries with the same highest review count)."
   ]
  },
  {
   "cell_type": "code",
   "execution_count": 28,
   "id": "8d1753c7-c20b-46b2-a4eb-62b6fe1fdf43",
   "metadata": {},
   "outputs": [],
   "source": [
    "android_clean = []\n",
    "already_added = []\n",
    "\n",
    "for app in android_data:\n",
    "    name = app[0]\n",
    "    n_reviews = float(app[3])\n",
    "\n",
    "    if (n_reviews == reviews_max[name]) and (name not in already_added):\n",
    "        android_clean.append(app)\n",
    "        already_added.append(name)"
   ]
  },
  {
   "cell_type": "markdown",
   "id": "b22145ca-4481-428f-9c02-2ee57ea3eaaf",
   "metadata": {},
   "source": [
    "Let's take a moment to examine the newly created dataset. We can confirm that the number of rows is now 9,659.  This signifies a successful removal of duplicate entries."
   ]
  },
  {
   "cell_type": "code",
   "execution_count": 30,
   "id": "50e228b6-c7f2-404b-be60-b40022480880",
   "metadata": {},
   "outputs": [
    {
     "name": "stdout",
     "output_type": "stream",
     "text": [
      "['Photo Editor & Candy Camera & Grid & ScrapBook', 'ART_AND_DESIGN', '4.1', '159', '19M', '10,000+', 'Free', '0', 'Everyone', 'Art & Design', 'January 7, 2018', '1.0.0', '4.0.3 and up']\n",
      "\n",
      "\n",
      "['U Launcher Lite – FREE Live Cool Themes, Hide Apps', 'ART_AND_DESIGN', '4.7', '87510', '8.7M', '5,000,000+', 'Free', '0', 'Everyone', 'Art & Design', 'August 1, 2018', '1.2.4', '4.0.3 and up']\n",
      "\n",
      "\n",
      "['Sketch - Draw & Paint', 'ART_AND_DESIGN', '4.5', '215644', '25M', '50,000,000+', 'Free', '0', 'Teen', 'Art & Design', 'June 8, 2018', 'Varies with device', '4.2 and up']\n",
      "\n",
      "\n",
      "Number of rows: 9659\n",
      "Number of columns: 13\n"
     ]
    }
   ],
   "source": [
    "explore_data(android_clean, 0, 3, True)"
   ]
  },
  {
   "cell_type": "markdown",
   "id": "b142c0eb-3543-46b9-8d22-b8db0b78acc0",
   "metadata": {},
   "source": [
    "We have 9659 rows, just as expected."
   ]
  },
  {
   "cell_type": "markdown",
   "id": "95ab89e3-c059-40dd-a62c-c8768be0d942",
   "metadata": {},
   "source": [
    "# Removing Non-English Apps\n",
    "## Part One\n",
    "As you delve deeper into the datasets, you might encounter app names that suggest they are not targeted towards an English-speaking audience. Here are a few examples from both datasets for illustration:"
   ]
  },
  {
   "cell_type": "code",
   "execution_count": 33,
   "id": "76ada84c-62d6-4b92-ad34-67ce1090097d",
   "metadata": {},
   "outputs": [
    {
     "name": "stdout",
     "output_type": "stream",
     "text": [
      "爱奇艺PPS -《欢乐颂2》电视剧热播\n",
      "【脱出ゲーム】絶対に最後までプレイしないで 〜謎解き＆ブロックパズル〜\n",
      "中国語 AQリスニング\n",
      "لعبة تقدر تربح DZ\n"
     ]
    }
   ],
   "source": [
    "print(ios_data[813][1])\n",
    "print(ios_data[6731][1])\n",
    "\n",
    "print(android_clean[4412][0])\n",
    "print(android_clean[7940][0])"
   ]
  },
  {
   "cell_type": "markdown",
   "id": "6c435dff-484b-4737-ab71-d33d7a30ba69",
   "metadata": {},
   "source": [
    "Our analysis focuses on apps relevant to an English-speaking audience. Therefore, we'll remove apps whose names contain characters uncommon in English text. Typically, English text includes:\n",
    "\n",
    "* Letters from the English alphabet\n",
    "* Numbers (0-9)\n",
    "* Punctuation marks (., !, ?, ;, etc.)\n",
    "* Common symbols (+, *, /, etc.)\n",
    "\n",
    "These characters used in English text are encoded using the ASCII standard. Each ASCII character has a corresponding number between 0 and 127. We can leverage this to create a function that checks an app name for non-ASCII characters.\n",
    "\n",
    "The code below defines such a function. It utilizes the built-in `ord()` function to determine the encoding number for each character in the app name."
   ]
  },
  {
   "cell_type": "code",
   "execution_count": 35,
   "id": "dfaa3116-cc91-47b6-9bbc-fd2bc7261910",
   "metadata": {},
   "outputs": [
    {
     "name": "stdout",
     "output_type": "stream",
     "text": [
      "True\n",
      "False\n"
     ]
    }
   ],
   "source": [
    "def is_english(string):\n",
    "    \n",
    "    for character in string:\n",
    "        if ord(character) > 127:\n",
    "            return False\n",
    "    return True\n",
    "\n",
    "print(is_english('Instagram'))\n",
    "print(is_english('爱奇艺PPS -《欢乐颂2》电视剧热播'))"
   ]
  },
  {
   "cell_type": "markdown",
   "id": "1e1f0407-fabd-4f6b-a8f6-f092dd339cf7",
   "metadata": {},
   "source": [
    "While the current function appears functional, it has limitations. Certain English app names might contain emojis or symbols like (™, — (em dash), – (en dash), etc.) that lie outside the ASCII character range. Consequently, using this function in its current state would lead to the unintended removal of relevant English apps."
   ]
  },
  {
   "cell_type": "code",
   "execution_count": 37,
   "id": "41c33e50-cdaa-46d4-9f3e-ae674f608271",
   "metadata": {},
   "outputs": [
    {
     "name": "stdout",
     "output_type": "stream",
     "text": [
      "False\n",
      "False\n",
      "8482\n",
      "128540\n"
     ]
    }
   ],
   "source": [
    "print(is_english('Docs To Go™ Free Office Suite'))\n",
    "print(is_english('Instachat 😜'))\n",
    "\n",
    "print(ord('™'))\n",
    "print(ord('😜'))"
   ]
  },
  {
   "cell_type": "markdown",
   "id": "71ea31f8-f696-41fc-8e01-4c5857c82820",
   "metadata": {},
   "source": [
    "## Part Two\n",
    "To minimize the impact of data loss, we'll only remove an app if its name has more than three non-ASCII characters:"
   ]
  },
  {
   "cell_type": "code",
   "execution_count": 39,
   "id": "57a0f5e1-38ea-4e1e-9090-d830e4dbcff9",
   "metadata": {},
   "outputs": [
    {
     "name": "stdout",
     "output_type": "stream",
     "text": [
      "True\n",
      "True\n"
     ]
    }
   ],
   "source": [
    "def is_english(string):\n",
    "    no_ascii = 0\n",
    "\n",
    "    for chacter in string:\n",
    "        if ord(chacter) > 127:\n",
    "            no_ascii += 1\n",
    "    if no_ascii > 3:\n",
    "        return False\n",
    "    else:\n",
    "        return True\n",
    "\n",
    "print(is_english('Docs To Go™ Free Office Suite'))\n",
    "print(is_english('Instachat 😜'))"
   ]
  },
  {
   "cell_type": "markdown",
   "id": "08642ac7-f8ca-4b7a-8b2f-978ed6887f9c",
   "metadata": {},
   "source": [
    "The `is_english()` function, though not flawless, should effectively filter out most non-English apps while potentially missing a small number. This level of accuracy suffices for our present analysis; further refinement can be addressed later.\n",
    "\n",
    "We'll now utilize the `is_english()` function to remove non-English apps from both datasets."
   ]
  },
  {
   "cell_type": "code",
   "execution_count": 41,
   "id": "9f08d820-2438-4fa2-9335-70d163fce90c",
   "metadata": {},
   "outputs": [
    {
     "name": "stdout",
     "output_type": "stream",
     "text": [
      "['Photo Editor & Candy Camera & Grid & ScrapBook', 'ART_AND_DESIGN', '4.1', '159', '19M', '10,000+', 'Free', '0', 'Everyone', 'Art & Design', 'January 7, 2018', '1.0.0', '4.0.3 and up']\n",
      "\n",
      "\n",
      "['U Launcher Lite – FREE Live Cool Themes, Hide Apps', 'ART_AND_DESIGN', '4.7', '87510', '8.7M', '5,000,000+', 'Free', '0', 'Everyone', 'Art & Design', 'August 1, 2018', '1.2.4', '4.0.3 and up']\n",
      "\n",
      "\n",
      "['Sketch - Draw & Paint', 'ART_AND_DESIGN', '4.5', '215644', '25M', '50,000,000+', 'Free', '0', 'Teen', 'Art & Design', 'June 8, 2018', 'Varies with device', '4.2 and up']\n",
      "\n",
      "\n",
      "Number of rows: 9614\n",
      "Number of columns: 13\n",
      "\n",
      "\n",
      "['284882215', 'Facebook', '389879808', 'USD', '0.0', '2974676', '212', '3.5', '3.5', '95.0', '4+', 'Social Networking', '37', '1', '29', '1']\n",
      "\n",
      "\n",
      "['389801252', 'Instagram', '113954816', 'USD', '0.0', '2161558', '1289', '4.5', '4.0', '10.23', '12+', 'Photo & Video', '37', '0', '29', '1']\n",
      "\n",
      "\n",
      "['529479190', 'Clash of Clans', '116476928', 'USD', '0.0', '2130805', '579', '4.5', '4.5', '9.24.12', '9+', 'Games', '38', '5', '18', '1']\n",
      "\n",
      "\n",
      "Number of rows: 6183\n",
      "Number of columns: 16\n"
     ]
    }
   ],
   "source": [
    "android_english = []\n",
    "ios_english = []\n",
    "\n",
    "for app in android_clean:\n",
    "    name = app[0]\n",
    "    if is_english(name):\n",
    "        android_english.append(app)\n",
    "\n",
    "for app in ios_data:\n",
    "    name = app[1]\n",
    "    if is_english(name):\n",
    "        ios_english.append(app)\n",
    "\n",
    "explore_data(android_english, 0, 3, True)\n",
    "print('\\n')\n",
    "explore_data(ios_english, 0, 3, True)"
   ]
  },
  {
   "cell_type": "markdown",
   "id": "a98e09a1-bc36-4b69-ba58-c530fb937a93",
   "metadata": {},
   "source": [
    "We can see that we're left with 9614 Android apps and 6183 iOS apps."
   ]
  },
  {
   "cell_type": "markdown",
   "id": "56cf4ab0-cbaa-4645-989c-9dc5d292cb15",
   "metadata": {},
   "source": [
    "# Isolating the Free Apps\n",
    "As stated earlier, we exclusively develop free-to-download and install applications. Our primary revenue stream comes from in-app advertisements. Our datasets contain both free and paid apps, and for our analysis, we'll need to isolate only the free ones. Below, we've extracted the free apps from both of our datasets."
   ]
  },
  {
   "cell_type": "code",
   "execution_count": 44,
   "id": "42760374-9921-4dc0-ae7e-e587787cab28",
   "metadata": {},
   "outputs": [
    {
     "name": "stdout",
     "output_type": "stream",
     "text": [
      "8864\n",
      "3222\n"
     ]
    }
   ],
   "source": [
    "android_final = []\n",
    "ios_final = []\n",
    "\n",
    "for app in android_english:\n",
    "    price = app[7]\n",
    "    if price == '0':\n",
    "        android_final.append(app)\n",
    "\n",
    "for app in ios_english:\n",
    "    price = app[4]\n",
    "    if price == '0.0':\n",
    "        ios_final.append(app)\n",
    "\n",
    "print(len(android_final))\n",
    "print(len(ios_final))"
   ]
  },
  {
   "cell_type": "markdown",
   "id": "b6ae834e-4dfb-448e-90c2-781f16525ffa",
   "metadata": {},
   "source": [
    "This process has resulted in a dataset of 8864 Android apps and 3222 iOS apps, which should be sufficient for our analysis."
   ]
  },
  {
   "cell_type": "markdown",
   "id": "a827f291-9f73-4e85-b66c-35376cd8ce68",
   "metadata": {},
   "source": [
    "# Most Common Apps by Genre\n",
    "## Part One\n",
    "As mentioned in the introduction, the objective of this study is to identify the types of mobile applications that are likely to attract the largest number of users, as their user base directly impacts our revenue.\n",
    "\n",
    "To minimize development risks and expenses, we have developed a three-step app idea validation strategy:\n",
    "* Create a Minimum Viable Product (MVP) Android version of the app and publish it on Google Play.\n",
    "* Analyze user feedback: if the app receives positive feedback, it will be further developed and enhanced.\n",
    "* If the app becomes profitable within six months, an iOS version of the app will be developed and published on the App Store.\n",
    "\n",
    "Our goal is to develop applications that can achieve success on both the App Store and Google Play. Examples of such applications include productivity apps that incorporate gamification elements.\n",
    "\n",
    "To begin our analysis, it is necessary to identify the most common app genres on each platform. For this purpose, frequency tables will be created for the following data set columns: `prime_genre` (App Store), `Genres` and `Category` (Google Play).\n",
    "\n",
    "Analyzing app genres will provide us with insights into user preferences on different platforms, which will serve as the foundation for further app idea development and validation."
   ]
  },
  {
   "cell_type": "markdown",
   "id": "bfc9c138-3b66-4327-9397-6e884a017105",
   "metadata": {},
   "source": [
    "## Part Two\n",
    "To facilitate the analysis of the frequency tables, two functions will be developed:\n",
    "* Percentage Frequency Table Generation Function: This function will automate the generation of frequency tables that present data points as percentages.\n",
    "* Descending Order Sorting Function: This function will sort the percentage values within the frequency tables in descending order, allowing for easier identification of the most prevalent genres."
   ]
  },
  {
   "cell_type": "code",
   "execution_count": 48,
   "id": "6d5d7cab-d9e5-441a-9c92-5367de857fc7",
   "metadata": {},
   "outputs": [],
   "source": [
    "def freq_table(dataset, index):\n",
    "    table = {}\n",
    "    total = 0\n",
    "    \n",
    "    for row in dataset:\n",
    "        total += 1\n",
    "        value = row[index]\n",
    "        if value in table:\n",
    "            table[value] += 1\n",
    "        else:\n",
    "            table[value] = 1\n",
    "\n",
    "    table_percentages = {}\n",
    "    for key in table:\n",
    "        percentage = (table[key] / total) * 100\n",
    "        table_percentages[key] = percentage\n",
    "\n",
    "    return table_percentages\n",
    "\n",
    "def display_table(dataset, index):\n",
    "    table = freq_table(dataset, index)\n",
    "    table_display = []\n",
    "    for key in table:\n",
    "        key_val_as_tuple = (table[key], key)\n",
    "        table_display.append(key_val_as_tuple)\n",
    "        \n",
    "    table_sorted = sorted(table_display, reverse = True)\n",
    "    for entry in table_sorted:\n",
    "        print(entry[1], ':', entry[0])"
   ]
  },
  {
   "cell_type": "markdown",
   "id": "d28e9147-a4d0-49e6-8fe3-026d22005559",
   "metadata": {},
   "source": [
    "## Part Three\n",
    "Our analysis commences by examining the frequency distribution of genres within the `prime_genre` column of the App Store data set."
   ]
  },
  {
   "cell_type": "code",
   "execution_count": 50,
   "id": "be761c9e-698b-4849-a722-e28b4ee72af5",
   "metadata": {},
   "outputs": [
    {
     "name": "stdout",
     "output_type": "stream",
     "text": [
      "Games : 58.16263190564867\n",
      "Entertainment : 7.883302296710118\n",
      "Photo & Video : 4.9658597144630665\n",
      "Education : 3.662321539416512\n",
      "Social Networking : 3.2898820608317814\n",
      "Shopping : 2.60707635009311\n",
      "Utilities : 2.5139664804469275\n",
      "Sports : 2.1415270018621975\n",
      "Music : 2.0484171322160147\n",
      "Health & Fitness : 2.0173805090006205\n",
      "Productivity : 1.7380509000620732\n",
      "Lifestyle : 1.5828677839851024\n",
      "News : 1.3345747982619491\n",
      "Travel : 1.2414649286157666\n",
      "Finance : 1.1173184357541899\n",
      "Weather : 0.8690254500310366\n",
      "Food & Drink : 0.8069522036002483\n",
      "Reference : 0.5586592178770949\n",
      "Business : 0.5276225946617008\n",
      "Book : 0.4345127250155183\n",
      "Navigation : 0.186219739292365\n",
      "Medical : 0.186219739292365\n",
      "Catalogs : 0.12414649286157665\n"
     ]
    }
   ],
   "source": [
    "display_table(ios_final, -5)"
   ]
  },
  {
   "cell_type": "markdown",
   "id": "7f4ce99b-501b-48cf-8b46-8bb81ca69dcd",
   "metadata": {},
   "source": [
    "An examination of the frequency distribution within the `prime_genre` column of the App Store data set reveals that games constitute the most prominent category, encompassing over half (58.16%) of the free English apps. Entertainment apps follow closely at nearly 8%, with photo and video apps trailing behind at approximately 5%. Educational and social networking apps hold a smaller share, accounting for 3.66% and 3.29% of the dataset, respectively.\n",
    "\n",
    "This initial analysis suggests a potential bias towards entertainment-oriented applications within the App Store, particularly among free English apps. Games, entertainment, photo and video, social networking, sports, and music applications collectively represent a significant portion of the offerings. Conversely, applications designed for practical purposes, such as education, shopping, utilities, productivity, and lifestyle, appear less prevalent.\n",
    "\n",
    "However, it is crucial to acknowledge that the sheer volume of a particular genre does not necessarily equate to a corresponding level of user engagement. Popularity, as measured by quantity, may not directly translate to user base size.\n",
    "\n",
    "We shall now proceed by examining the interrelated `Genres` and `Category` columns within the Google Play data set for further insights."
   ]
  },
  {
   "cell_type": "code",
   "execution_count": 52,
   "id": "14969a83-62fc-4476-a05b-be05ffa2768c",
   "metadata": {},
   "outputs": [
    {
     "name": "stdout",
     "output_type": "stream",
     "text": [
      "FAMILY : 18.907942238267147\n",
      "GAME : 9.724729241877256\n",
      "TOOLS : 8.461191335740072\n",
      "BUSINESS : 4.591606498194946\n",
      "LIFESTYLE : 3.9034296028880866\n",
      "PRODUCTIVITY : 3.892148014440433\n",
      "FINANCE : 3.7003610108303246\n",
      "MEDICAL : 3.531137184115524\n",
      "SPORTS : 3.395758122743682\n",
      "PERSONALIZATION : 3.3167870036101084\n",
      "COMMUNICATION : 3.2378158844765346\n",
      "HEALTH_AND_FITNESS : 3.0798736462093865\n",
      "PHOTOGRAPHY : 2.944494584837545\n",
      "NEWS_AND_MAGAZINES : 2.7978339350180503\n",
      "SOCIAL : 2.6624548736462095\n",
      "TRAVEL_AND_LOCAL : 2.33528880866426\n",
      "SHOPPING : 2.2450361010830324\n",
      "BOOKS_AND_REFERENCE : 2.1435018050541514\n",
      "DATING : 1.861462093862816\n",
      "VIDEO_PLAYERS : 1.7937725631768955\n",
      "MAPS_AND_NAVIGATION : 1.3989169675090252\n",
      "FOOD_AND_DRINK : 1.2409747292418771\n",
      "EDUCATION : 1.1620036101083033\n",
      "ENTERTAINMENT : 0.9589350180505415\n",
      "LIBRARIES_AND_DEMO : 0.9363718411552346\n",
      "AUTO_AND_VEHICLES : 0.9250902527075812\n",
      "HOUSE_AND_HOME : 0.8235559566787004\n",
      "WEATHER : 0.8009927797833934\n",
      "EVENTS : 0.7107400722021661\n",
      "PARENTING : 0.6543321299638989\n",
      "ART_AND_DESIGN : 0.6430505415162455\n",
      "COMICS : 0.6204873646209386\n",
      "BEAUTY : 0.5979241877256317\n"
     ]
    }
   ],
   "source": [
    "display_table(android_final, 1) # Category"
   ]
  },
  {
   "cell_type": "markdown",
   "id": "9d82fc86-3f01-4136-b59d-f899d4cb169f",
   "metadata": {},
   "source": [
    "The landscape of app genres on Google Play appears demonstrably distinct from that of the App Store. Unlike the App Store's emphasis on entertainment, Google Play exhibits a seemingly lower concentration of applications designed primarily for recreational purposes. Conversely, a notable presence is observed for applications serving practical needs, including those categorized as family, tools, business, lifestyle, and productivity.\n",
    "\n",
    "However, a closer examination of the `family` category, which constitutes nearly 19% of the offerings on Google Play, reveals a significant portion dedicated to games targeted towards children. This finding suggests that the seemingly practical focus of Google Play's genre distribution may be partially skewed by the inclusion of child-oriented entertainment within the family category.\n",
    "\n",
    "![Image](https://camo.githubusercontent.com/820d6ec2d9a7187d65bd7ed393b39aaeba0dd3fa97862963e5a502bb8da4fc72/68747470733a2f2f73332e616d617a6f6e6177732e636f6d2f64712d636f6e74656e742f3335302f7079316d385f66616d696c792e706e67)\n",
    "\n",
    "The observation of a stronger presence for practical applications on Google Play compared to the App Store is further corroborated by the frequency table generated for the `Genres` column. While the inclusion of the actual table would bolster this analysis visually, a key takeaway remains: Google Play's genre distribution leans more towards applications designed for practical use cases."
   ]
  },
  {
   "cell_type": "code",
   "execution_count": 54,
   "id": "e239ec94-601e-4b71-af0d-cb8f900bfa94",
   "metadata": {},
   "outputs": [
    {
     "name": "stdout",
     "output_type": "stream",
     "text": [
      "Tools : 8.449909747292418\n",
      "Entertainment : 6.069494584837545\n",
      "Education : 5.347472924187725\n",
      "Business : 4.591606498194946\n",
      "Productivity : 3.892148014440433\n",
      "Lifestyle : 3.892148014440433\n",
      "Finance : 3.7003610108303246\n",
      "Medical : 3.531137184115524\n",
      "Sports : 3.463447653429603\n",
      "Personalization : 3.3167870036101084\n",
      "Communication : 3.2378158844765346\n",
      "Action : 3.1024368231046933\n",
      "Health & Fitness : 3.0798736462093865\n",
      "Photography : 2.944494584837545\n",
      "News & Magazines : 2.7978339350180503\n",
      "Social : 2.6624548736462095\n",
      "Travel & Local : 2.3240072202166067\n",
      "Shopping : 2.2450361010830324\n",
      "Books & Reference : 2.1435018050541514\n",
      "Simulation : 2.0419675090252705\n",
      "Dating : 1.861462093862816\n",
      "Arcade : 1.8501805054151623\n",
      "Video Players & Editors : 1.7712093862815883\n",
      "Casual : 1.7599277978339352\n",
      "Maps & Navigation : 1.3989169675090252\n",
      "Food & Drink : 1.2409747292418771\n",
      "Puzzle : 1.128158844765343\n",
      "Racing : 0.9927797833935018\n",
      "Role Playing : 0.9363718411552346\n",
      "Libraries & Demo : 0.9363718411552346\n",
      "Auto & Vehicles : 0.9250902527075812\n",
      "Strategy : 0.9138086642599278\n",
      "House & Home : 0.8235559566787004\n",
      "Weather : 0.8009927797833934\n",
      "Events : 0.7107400722021661\n",
      "Adventure : 0.6768953068592057\n",
      "Comics : 0.6092057761732852\n",
      "Beauty : 0.5979241877256317\n",
      "Art & Design : 0.5979241877256317\n",
      "Parenting : 0.4963898916967509\n",
      "Card : 0.45126353790613716\n",
      "Casino : 0.42870036101083037\n",
      "Trivia : 0.41741877256317694\n",
      "Educational;Education : 0.39485559566787\n",
      "Board : 0.3835740072202166\n",
      "Educational : 0.3722924187725632\n",
      "Education;Education : 0.33844765342960287\n",
      "Word : 0.2594765342960289\n",
      "Casual;Pretend Play : 0.236913357400722\n",
      "Music : 0.2030685920577617\n",
      "Racing;Action & Adventure : 0.16922382671480143\n",
      "Puzzle;Brain Games : 0.16922382671480143\n",
      "Entertainment;Music & Video : 0.16922382671480143\n",
      "Casual;Brain Games : 0.13537906137184114\n",
      "Casual;Action & Adventure : 0.13537906137184114\n",
      "Arcade;Action & Adventure : 0.12409747292418773\n",
      "Action;Action & Adventure : 0.10153429602888085\n",
      "Educational;Pretend Play : 0.09025270758122744\n",
      "Simulation;Action & Adventure : 0.078971119133574\n",
      "Parenting;Education : 0.078971119133574\n",
      "Entertainment;Brain Games : 0.078971119133574\n",
      "Board;Brain Games : 0.078971119133574\n",
      "Parenting;Music & Video : 0.06768953068592057\n",
      "Educational;Brain Games : 0.06768953068592057\n",
      "Casual;Creativity : 0.06768953068592057\n",
      "Art & Design;Creativity : 0.06768953068592057\n",
      "Education;Pretend Play : 0.056407942238267145\n",
      "Role Playing;Pretend Play : 0.04512635379061372\n",
      "Education;Creativity : 0.04512635379061372\n",
      "Role Playing;Action & Adventure : 0.033844765342960284\n",
      "Puzzle;Action & Adventure : 0.033844765342960284\n",
      "Entertainment;Creativity : 0.033844765342960284\n",
      "Entertainment;Action & Adventure : 0.033844765342960284\n",
      "Educational;Creativity : 0.033844765342960284\n",
      "Educational;Action & Adventure : 0.033844765342960284\n",
      "Education;Music & Video : 0.033844765342960284\n",
      "Education;Brain Games : 0.033844765342960284\n",
      "Education;Action & Adventure : 0.033844765342960284\n",
      "Adventure;Action & Adventure : 0.033844765342960284\n",
      "Video Players & Editors;Music & Video : 0.02256317689530686\n",
      "Sports;Action & Adventure : 0.02256317689530686\n",
      "Simulation;Pretend Play : 0.02256317689530686\n",
      "Puzzle;Creativity : 0.02256317689530686\n",
      "Music;Music & Video : 0.02256317689530686\n",
      "Entertainment;Pretend Play : 0.02256317689530686\n",
      "Casual;Education : 0.02256317689530686\n",
      "Board;Action & Adventure : 0.02256317689530686\n",
      "Video Players & Editors;Creativity : 0.01128158844765343\n",
      "Trivia;Education : 0.01128158844765343\n",
      "Travel & Local;Action & Adventure : 0.01128158844765343\n",
      "Tools;Education : 0.01128158844765343\n",
      "Strategy;Education : 0.01128158844765343\n",
      "Strategy;Creativity : 0.01128158844765343\n",
      "Strategy;Action & Adventure : 0.01128158844765343\n",
      "Simulation;Education : 0.01128158844765343\n",
      "Role Playing;Brain Games : 0.01128158844765343\n",
      "Racing;Pretend Play : 0.01128158844765343\n",
      "Puzzle;Education : 0.01128158844765343\n",
      "Parenting;Brain Games : 0.01128158844765343\n",
      "Music & Audio;Music & Video : 0.01128158844765343\n",
      "Lifestyle;Pretend Play : 0.01128158844765343\n",
      "Lifestyle;Education : 0.01128158844765343\n",
      "Health & Fitness;Education : 0.01128158844765343\n",
      "Health & Fitness;Action & Adventure : 0.01128158844765343\n",
      "Entertainment;Education : 0.01128158844765343\n",
      "Communication;Creativity : 0.01128158844765343\n",
      "Comics;Creativity : 0.01128158844765343\n",
      "Casual;Music & Video : 0.01128158844765343\n",
      "Card;Action & Adventure : 0.01128158844765343\n",
      "Books & Reference;Education : 0.01128158844765343\n",
      "Art & Design;Pretend Play : 0.01128158844765343\n",
      "Art & Design;Action & Adventure : 0.01128158844765343\n",
      "Arcade;Pretend Play : 0.01128158844765343\n",
      "Adventure;Education : 0.01128158844765343\n"
     ]
    }
   ],
   "source": [
    "display_table(android_final, -4)"
   ]
  },
  {
   "cell_type": "markdown",
   "id": "baf5e182-f407-46da-890b-319a18b7b3a6",
   "metadata": {},
   "source": [
    "While a subtle distinction exists between the `Genres` and `Category` columns within the Google Play data set, a key observation is the increased level of granularity offered by the `Genres` column due to its wider range of categories. For the purposes of this initial exploration aimed at identifying broader trends, we will focus our analysis on the `Category` column.\n",
    "\n",
    "Our preliminary examination has revealed a potential bias towards entertainment-focused applications within the App Store, particularly among free English apps. Conversely, Google Play appears to exhibit a more balanced distribution, encompassing both applications designed for practical use cases and those intended for recreational purposes.\n",
    "\n",
    "Moving forward, the focus of our investigation will shift towards gaining insights into the app genres that tend to attract the largest user bases on each platform."
   ]
  },
  {
   "cell_type": "markdown",
   "id": "7cf1faf2-e584-40fb-b6a3-db9f844c0f61",
   "metadata": {},
   "source": [
    "# Most Popular Apps by Genre on the App Store\n",
    "To determine the app genres with the highest user engagement, we will employ a metric indicative of user interest. Ideally, data on the average number of `Installs` per genre would be utilized for both the App Store and Google Play datasets. Unfortunately, the App Store data lacks this specific information.\n",
    "\n",
    "As a viable alternative, we will leverage the total number of user ratings per genre within the App Store's `rating_count_tot` field as a proxy metric for user engagement. This approach assumes a correlation between the number of ratings and the overall user base of an app genre.\n",
    "\n",
    "The following section will present the calculated average number of user ratings per app genre on the App Store:"
   ]
  },
  {
   "cell_type": "code",
   "execution_count": 57,
   "id": "ea0cc42d-0bdf-4fbd-be91-a7ca03525571",
   "metadata": {},
   "outputs": [
    {
     "name": "stdout",
     "output_type": "stream",
     "text": [
      "Social Networking : 71548.34905660378\n",
      "Photo & Video : 28441.54375\n",
      "Games : 22788.6696905016\n",
      "Music : 57326.530303030304\n",
      "Reference : 74942.11111111111\n",
      "Health & Fitness : 23298.015384615384\n",
      "Weather : 52279.892857142855\n",
      "Utilities : 18684.456790123455\n",
      "Travel : 28243.8\n",
      "Shopping : 26919.690476190477\n",
      "News : 21248.023255813954\n",
      "Navigation : 86090.33333333333\n",
      "Lifestyle : 16485.764705882353\n",
      "Entertainment : 14029.830708661417\n",
      "Food & Drink : 33333.92307692308\n",
      "Sports : 23008.898550724636\n",
      "Book : 39758.5\n",
      "Finance : 31467.944444444445\n",
      "Education : 7003.983050847458\n",
      "Productivity : 21028.410714285714\n",
      "Business : 7491.117647058823\n",
      "Catalogs : 4004.0\n",
      "Medical : 612.0\n"
     ]
    }
   ],
   "source": [
    "genres_ios = freq_table(ios_final, -5)\n",
    "\n",
    "for genre in genres_ios:\n",
    "    total = 0\n",
    "    len_genre = 0\n",
    "    for app in ios_final:\n",
    "        genre_app = app[-5]\n",
    "        if genre_app == genre:\n",
    "            n_ratings = float(app[5])\n",
    "            total += n_ratings\n",
    "            len_genre += 1\n",
    "    avg_n_ratings = total / len_genre\n",
    "    print(genre, \":\", avg_n_ratings)"
   ]
  },
  {
   "cell_type": "markdown",
   "id": "8afaac4c-294e-4b80-9a2a-cb4e84eee44e",
   "metadata": {},
   "source": [
    "While the initial analysis of the App Store data suggests that navigation applications possess the highest average number of user ratings, this finding warrants further investigation. Notably, a significant portion of this metric can be attributed to the presence of Waze and Google Maps, two prominent navigation apps boasting nearly half a million user reviews combined."
   ]
  },
  {
   "cell_type": "code",
   "execution_count": 59,
   "id": "aaddcded-ede2-45eb-add6-be72ee4d07a5",
   "metadata": {},
   "outputs": [
    {
     "name": "stdout",
     "output_type": "stream",
     "text": [
      "Waze - GPS Navigation, Maps & Real-time Traffic : 345046\n",
      "Google Maps - Navigation & Transit : 154911\n",
      "Geocaching® : 12811\n",
      "CoPilot GPS – Car Navigation & Offline Maps : 3582\n",
      "ImmobilienScout24: Real Estate Search in Germany : 187\n",
      "Railway Route Search : 5\n"
     ]
    }
   ],
   "source": [
    "for app in ios_final:\n",
    "    if app[-5] == 'Navigation':\n",
    "        print(app[1], ':', app[5]) # print name and number of ratings"
   ]
  },
  {
   "cell_type": "markdown",
   "id": "f797cc68-2fb5-43aa-b6b7-ea7a631a180a",
   "metadata": {},
   "source": [
    "The initial exploration of average user ratings per genre within the App Store data reveals potential outliers. Genres like navigation, social networking, and music exhibit inflated average ratings potentially influenced by a few dominant players. For instance, Facebook, Pinterest, Skype, Pandora, Spotify, and Shazam likely contribute significantly to the high averages observed in their respective genres.\n",
    "\n",
    "This phenomenon skews the data, potentially misrepresenting the true popularity of these genres beyond the established giants. While a more granular analysis could involve removing these outliers and recalculating averages, such a deep dive is beyond the scope of this current exploration.\n",
    "\n",
    "Furthermore, the \"reference\" genre, with an average of 74,942 user ratings, appears to be skewed by the presence of applications like the Bible and Dictionary.com, which garner exceptionally high user ratings."
   ]
  },
  {
   "cell_type": "code",
   "execution_count": 61,
   "id": "1e30f0e0-dd2c-44d8-854d-039ecfc5bf11",
   "metadata": {},
   "outputs": [
    {
     "name": "stdout",
     "output_type": "stream",
     "text": [
      "Bible : 985920\n",
      "Dictionary.com Dictionary & Thesaurus : 200047\n",
      "Dictionary.com Dictionary & Thesaurus for iPad : 54175\n",
      "Google Translate : 26786\n",
      "Muslim Pro: Ramadan 2017 Prayer Times, Azan, Quran : 18418\n",
      "New Furniture Mods - Pocket Wiki & Game Tools for Minecraft PC Edition : 17588\n",
      "Merriam-Webster Dictionary : 16849\n",
      "Night Sky : 12122\n",
      "City Maps for Minecraft PE - The Best Maps for Minecraft Pocket Edition (MCPE) : 8535\n",
      "LUCKY BLOCK MOD ™ for Minecraft PC Edition - The Best Pocket Wiki & Mods Installer Tools : 4693\n",
      "GUNS MODS for Minecraft PC Edition - Mods Tools : 1497\n",
      "Guides for Pokémon GO - Pokemon GO News and Cheats : 826\n",
      "WWDC : 762\n",
      "Horror Maps for Minecraft PE - Download The Scariest Maps for Minecraft Pocket Edition (MCPE) Free : 718\n",
      "VPN Express : 14\n",
      "Real Bike Traffic Rider Virtual Reality Glasses : 8\n",
      "教えて!goo : 0\n",
      "Jishokun-Japanese English Dictionary & Translator : 0\n"
     ]
    }
   ],
   "source": [
    "for app in ios_final:\n",
    "    if app[-5] == 'Reference':\n",
    "        print(app[1], ':', app[5])"
   ]
  },
  {
   "cell_type": "markdown",
   "id": "6103d800-3c80-4ac0-8a4c-f7f833112539",
   "metadata": {},
   "source": [
    "While the initial analysis of App Store user ratings identified potential outliers within certain genres, it also revealed a niche with intriguing possibilities. The \"reference\" genre, skewed by applications like the Bible and Dictionary.com, suggests a potential market for well-crafted educational or reference apps.\n",
    "\n",
    "One possible approach could involve leveraging a popular book and transforming it into a comprehensive app. This app could extend beyond the raw text of the book by incorporating features such as daily quotes, an audiobook version, quizzes for knowledge assessment, and an integrated dictionary to eliminate the need for external app switching.\n",
    "\n",
    "This concept aligns with the observed dominance of entertainment-focused apps on the App Store. The potential market saturation within this category suggests that a practical app might stand out more effectively amidst the vast number of offerings.\n",
    "\n",
    "Further exploration of potentially popular genres on the App Store revealed weather, book, food and drink, and finance as potential contenders. However, a closer examination of these options yielded less promising results:\n",
    "\n",
    "* Weather Apps: User engagement with weather apps is typically brief, limiting the potential for in-app advertising revenue. Additionally, acquiring reliable real-time weather data often necessitates integration with non-free APIs.\n",
    "* Food and Drink Apps: Popular examples within this genre, such as Starbucks, Dunkin' Donuts, and McDonald's, often rely heavily on physical services like cooking and delivery infrastructure, which fall outside our company's core competencies.\n",
    "* Finance Apps: Finance apps typically involve functions like banking, bill payments, and money transfers. Building such apps necessitates domain expertise, and recruiting a finance specialist solely for app development is not a strategic fit for our company.\n",
    "\n",
    "Given these considerations, we shall now shift our focus towards analyzing the Google Play market to identify potential opportunities within that platform."
   ]
  },
  {
   "cell_type": "markdown",
   "id": "85e0602f-ca30-4a9d-b28b-6719cc40e253",
   "metadata": {},
   "source": [
    "# Most Popular Apps by Genre on Google Play\n",
    "In contrast to the App Store data, the Google Play data set offers the advantage of including install numbers for each app. This seemingly more precise metric should facilitate a clearer understanding of genre popularity on the Google Play platform.\n",
    "\n",
    "However, a closer inspection reveals a potential limitation with the install data. A significant portion of the values appear to be presented in open-ended ranges, such as \"100+,\" \"1,000+,\" and \"5,000+.\" While this approach offers a general sense of install volume, it introduces ambiguity when attempting to pinpoint exact install counts."
   ]
  },
  {
   "cell_type": "code",
   "execution_count": 64,
   "id": "481b8c68-515d-4f3d-89e5-6f7d984402ad",
   "metadata": {},
   "outputs": [
    {
     "name": "stdout",
     "output_type": "stream",
     "text": [
      "1,000,000+ : 15.726534296028879\n",
      "100,000+ : 11.552346570397113\n",
      "10,000,000+ : 10.548285198555957\n",
      "10,000+ : 10.198555956678701\n",
      "1,000+ : 8.393501805054152\n",
      "100+ : 6.915613718411552\n",
      "5,000,000+ : 6.825361010830325\n",
      "500,000+ : 5.561823104693141\n",
      "50,000+ : 4.7721119133574\n",
      "5,000+ : 4.512635379061372\n",
      "10+ : 3.5424187725631766\n",
      "500+ : 3.2490974729241873\n",
      "50,000,000+ : 2.3014440433213\n",
      "100,000,000+ : 2.1322202166064983\n",
      "50+ : 1.917870036101083\n",
      "5+ : 0.78971119133574\n",
      "1+ : 0.5076714801444043\n",
      "500,000,000+ : 0.2707581227436823\n",
      "1,000,000,000+ : 0.22563176895306858\n",
      "0+ : 0.04512635379061372\n",
      "0 : 0.01128158844765343\n"
     ]
    }
   ],
   "source": [
    "display_table(android_final, 5) # the Installs columns"
   ]
  },
  {
   "cell_type": "markdown",
   "id": "21506584-d2be-47e3-9790-c3176161ffb2",
   "metadata": {},
   "source": [
    "One problem with this data is that is not precise. For instance, we don't know whether an app with 100,000+ installs has 100,000 installs, 200,000, or 350,000. However, we don't need very precise data for our purposes — we only want to get an idea which app genres attract the most users, and we don't need perfect precision with respect to the number of users.\n",
    "\n",
    "Therefore, we will retain the install data in its current form. This signifies that applications categorized as \"100,000+ installs\" will be considered to have 100,000 installs, while those categorized as \"1,000,000+ installs\" will be considered to have 1,000,000 installs, and so on.\n",
    "\n",
    "It is important to note that calculations will necessitate transforming each install value into `float`. This conversion process requires the removal of commas and plus signs to avoid errors. We will accomplish this task directly within the loop below, where the average number of installs for each genre (category) will also be computed."
   ]
  },
  {
   "cell_type": "code",
   "execution_count": 93,
   "id": "7344f960-d0fe-4aac-bbcc-b386a052e539",
   "metadata": {},
   "outputs": [
    {
     "name": "stdout",
     "output_type": "stream",
     "text": [
      "ART_AND_DESIGN : 1986335.0877192982\n",
      "AUTO_AND_VEHICLES : 647317.8170731707\n",
      "BEAUTY : 513151.88679245283\n",
      "BOOKS_AND_REFERENCE : 8767811.894736841\n",
      "BUSINESS : 1712290.1474201474\n",
      "COMICS : 817657.2727272727\n",
      "COMMUNICATION : 38456119.167247385\n",
      "DATING : 854028.8303030303\n",
      "EDUCATION : 1833495.145631068\n",
      "ENTERTAINMENT : 11640705.88235294\n",
      "EVENTS : 253542.22222222222\n",
      "FINANCE : 1387692.475609756\n",
      "FOOD_AND_DRINK : 1924897.7363636363\n",
      "HEALTH_AND_FITNESS : 4188821.9853479853\n",
      "HOUSE_AND_HOME : 1331540.5616438356\n",
      "LIBRARIES_AND_DEMO : 638503.734939759\n",
      "LIFESTYLE : 1437816.2687861272\n",
      "GAME : 15588015.603248259\n",
      "FAMILY : 3695641.8198090694\n",
      "MEDICAL : 120550.61980830671\n",
      "SOCIAL : 23253652.127118643\n",
      "SHOPPING : 7036877.311557789\n",
      "PHOTOGRAPHY : 17840110.40229885\n",
      "SPORTS : 3638640.1428571427\n",
      "TRAVEL_AND_LOCAL : 13984077.710144928\n",
      "TOOLS : 10801391.298666667\n",
      "PERSONALIZATION : 5201482.6122448975\n",
      "PRODUCTIVITY : 16787331.344927534\n",
      "PARENTING : 542603.6206896552\n",
      "WEATHER : 5074486.197183099\n",
      "VIDEO_PLAYERS : 24727872.452830188\n",
      "NEWS_AND_MAGAZINES : 9549178.467741935\n",
      "MAPS_AND_NAVIGATION : 4056941.7741935486\n"
     ]
    }
   ],
   "source": [
    "categories_android = freq_table(android_final, 1)\n",
    "\n",
    "for category in categories_android:\n",
    "    total = 0\n",
    "    len_category = 0\n",
    "    for app in android_final:\n",
    "        category_app = app[1]\n",
    "        if category_app == category:            \n",
    "            n_installs = app[5]\n",
    "            n_installs = n_installs.replace(',', '')\n",
    "            n_installs = n_installs.replace('+', '')\n",
    "            total += float(n_installs)\n",
    "            len_category += 1\n",
    "    avg_n_installs = total / len_category\n",
    "    print(category, ':', avg_n_installs)"
   ]
  },
  {
   "cell_type": "markdown",
   "id": "9048141e-1349-4922-923f-e24bbee0bf17",
   "metadata": {},
   "source": [
    "The initial exploration of average install numbers per genre within the Google Play data reveals communication apps as the apparent leaders, boasting an average of 38,456,119 installs. However, it is crucial to acknowledge that this figure is likely influenced by a handful of outliers. Prominent applications within this genre, such as WhatsApp, Facebook Messenger, Skype, Google Chrome, Gmail, and Hangouts, all surpass the one-billion-install mark. Additionally, several other communication apps fall within the 100-million and 500-million install range."
   ]
  },
  {
   "cell_type": "code",
   "execution_count": 96,
   "id": "b4bbeb81-183e-4866-b459-fbad32709a1a",
   "metadata": {},
   "outputs": [
    {
     "name": "stdout",
     "output_type": "stream",
     "text": [
      "WhatsApp Messenger : 1,000,000,000+\n",
      "imo beta free calls and text : 100,000,000+\n",
      "Android Messages : 100,000,000+\n",
      "Google Duo - High Quality Video Calls : 500,000,000+\n",
      "Messenger – Text and Video Chat for Free : 1,000,000,000+\n",
      "imo free video calls and chat : 500,000,000+\n",
      "Skype - free IM & video calls : 1,000,000,000+\n",
      "Who : 100,000,000+\n",
      "GO SMS Pro - Messenger, Free Themes, Emoji : 100,000,000+\n",
      "LINE: Free Calls & Messages : 500,000,000+\n",
      "Google Chrome: Fast & Secure : 1,000,000,000+\n",
      "Firefox Browser fast & private : 100,000,000+\n",
      "UC Browser - Fast Download Private & Secure : 500,000,000+\n",
      "Gmail : 1,000,000,000+\n",
      "Hangouts : 1,000,000,000+\n",
      "Messenger Lite: Free Calls & Messages : 100,000,000+\n",
      "Kik : 100,000,000+\n",
      "KakaoTalk: Free Calls & Text : 100,000,000+\n",
      "Opera Mini - fast web browser : 100,000,000+\n",
      "Opera Browser: Fast and Secure : 100,000,000+\n",
      "Telegram : 100,000,000+\n",
      "Truecaller: Caller ID, SMS spam blocking & Dialer : 100,000,000+\n",
      "UC Browser Mini -Tiny Fast Private & Secure : 100,000,000+\n",
      "Viber Messenger : 500,000,000+\n",
      "WeChat : 100,000,000+\n",
      "Yahoo Mail – Stay Organized : 100,000,000+\n",
      "BBM - Free Calls & Messages : 100,000,000+\n"
     ]
    }
   ],
   "source": [
    "for app in android_final:\n",
    "    if app[1] == 'COMMUNICATION' and (app[5] == '1,000,000,000+'\n",
    "                                      or app[5] == '500,000,000+'\n",
    "                                      or app[5] == '100,000,000+'):\n",
    "        print(app[0], ':', app[5])"
   ]
  },
  {
   "cell_type": "markdown",
   "id": "0854c232-ab98-452b-be54-d988cfe23f5c",
   "metadata": {},
   "source": [
    "If we removed all the communication apps that have over 100 million installs, the average would be reduced roughly ten times:"
   ]
  },
  {
   "cell_type": "code",
   "execution_count": 99,
   "id": "64c21519-4718-4ccb-a227-2fb52d2ff39b",
   "metadata": {},
   "outputs": [
    {
     "data": {
      "text/plain": [
       "3603485.3884615386"
      ]
     },
     "execution_count": 99,
     "metadata": {},
     "output_type": "execute_result"
    }
   ],
   "source": [
    "under_100_m = []\n",
    "\n",
    "for app in android_final:\n",
    "    n_installs = app[5]\n",
    "    n_installs = n_installs.replace(',', '')\n",
    "    n_installs = n_installs.replace('+', '')\n",
    "    if (app[1] == 'COMMUNICATION') and (float(n_installs) < 100000000):\n",
    "        under_100_m.append(float(n_installs))\n",
    "        \n",
    "sum(under_100_m) / len(under_100_m)"
   ]
  },
  {
   "cell_type": "markdown",
   "id": "a0430750-ff4d-4349-a1e3-cbbe36e965d5",
   "metadata": {},
   "source": [
    "The pattern observed in communication apps is replicated across other genres. Video players, boasting an average of 24,727,872 installs, exemplify this phenomenon. The market is heavily influenced by established applications like Youtube, Google Play Movies & TV, and MX Player. This trend extends to social apps dominated by giants such as Facebook, Instagram, and Google+, photography apps featuring Google Photos and prominent photo editors, and productivity apps encompassing Microsoft Word, Dropbox, Google Calendar, and Evernote.\n",
    "\n",
    "This recurring pattern raises a crucial concern. The high average install numbers within these genres might not accurately reflect their overall popularity. These niche markets appear to be disproportionately influenced by a select few dominant players, potentially presenting a significant competitive obstacle.\n",
    "\n",
    "While the genre of the game exhibits signs of popularity, our earlier analysis revealed a potentially saturated market.  Therefore, we aim to explore alternative app genre recommendations.\n",
    "\n",
    "The Books & Reference genre emerges as a potentially promising contender, with an average install count of 8,767,811. This genre warrants further investigation due to its potential success on both the App Store and Google Play, an aspect aligned with our goal of identifying a genre with profitability potential on both platforms.\n",
    "\n",
    "To gain a deeper understanding of the Books & Reference genre, a closer look at individual applications within this category and their corresponding install numbers is necessary:\n"
   ]
  },
  {
   "cell_type": "code",
   "execution_count": 102,
   "id": "ef6cf387-187c-4341-bcf0-cee5cd40a580",
   "metadata": {},
   "outputs": [
    {
     "name": "stdout",
     "output_type": "stream",
     "text": [
      "E-Book Read - Read Book for free : 50,000+\n",
      "Download free book with green book : 100,000+\n",
      "Wikipedia : 10,000,000+\n",
      "Cool Reader : 10,000,000+\n",
      "Free Panda Radio Music : 100,000+\n",
      "Book store : 1,000,000+\n",
      "FBReader: Favorite Book Reader : 10,000,000+\n",
      "English Grammar Complete Handbook : 500,000+\n",
      "Free Books - Spirit Fanfiction and Stories : 1,000,000+\n",
      "Google Play Books : 1,000,000,000+\n",
      "AlReader -any text book reader : 5,000,000+\n",
      "Offline English Dictionary : 100,000+\n",
      "Offline: English to Tagalog Dictionary : 500,000+\n",
      "FamilySearch Tree : 1,000,000+\n",
      "Cloud of Books : 1,000,000+\n",
      "Recipes of Prophetic Medicine for free : 500,000+\n",
      "ReadEra – free ebook reader : 1,000,000+\n",
      "Anonymous caller detection : 10,000+\n",
      "Ebook Reader : 5,000,000+\n",
      "Litnet - E-books : 100,000+\n",
      "Read books online : 5,000,000+\n",
      "English to Urdu Dictionary : 500,000+\n",
      "eBoox: book reader fb2 epub zip : 1,000,000+\n",
      "English Persian Dictionary : 500,000+\n",
      "Flybook : 500,000+\n",
      "All Maths Formulas : 1,000,000+\n",
      "Ancestry : 5,000,000+\n",
      "HTC Help : 10,000,000+\n",
      "English translation from Bengali : 100,000+\n",
      "Pdf Book Download - Read Pdf Book : 100,000+\n",
      "Free Book Reader : 100,000+\n",
      "eBoox new: Reader for fb2 epub zip books : 50,000+\n",
      "Only 30 days in English, the guideline is guaranteed : 500,000+\n",
      "Moon+ Reader : 10,000,000+\n",
      "SH-02J Owner's Manual (Android 8.0) : 50,000+\n",
      "English-Myanmar Dictionary : 1,000,000+\n",
      "Golden Dictionary (EN-AR) : 1,000,000+\n",
      "All Language Translator Free : 1,000,000+\n",
      "Azpen eReader : 500,000+\n",
      "URBANO V 02 instruction manual : 100,000+\n",
      "Bible : 100,000,000+\n",
      "C Programs and Reference : 50,000+\n",
      "C Offline Tutorial : 1,000+\n",
      "C Programs Handbook : 50,000+\n",
      "Amazon Kindle : 100,000,000+\n",
      "Aab e Hayat Full Novel : 100,000+\n",
      "Aldiko Book Reader : 10,000,000+\n",
      "Google I/O 2018 : 500,000+\n",
      "R Language Reference Guide : 10,000+\n",
      "Learn R Programming Full : 5,000+\n",
      "R Programing Offline Tutorial : 1,000+\n",
      "Guide for R Programming : 5+\n",
      "Learn R Programming : 10+\n",
      "R Quick Reference Big Data : 1,000+\n",
      "V Made : 100,000+\n",
      "Wattpad 📖 Free Books : 100,000,000+\n",
      "Dictionary - WordWeb : 5,000,000+\n",
      "Guide (for X-MEN) : 100,000+\n",
      "AC Air condition Troubleshoot,Repair,Maintenance : 5,000+\n",
      "AE Bulletins : 1,000+\n",
      "Ae Allah na Dai (Rasa) : 10,000+\n",
      "50000 Free eBooks & Free AudioBooks : 5,000,000+\n",
      "Ag PhD Field Guide : 10,000+\n",
      "Ag PhD Deficiencies : 10,000+\n",
      "Ag PhD Planting Population Calculator : 1,000+\n",
      "Ag PhD Soybean Diseases : 1,000+\n",
      "Fertilizer Removal By Crop : 50,000+\n",
      "A-J Media Vault : 50+\n",
      "Al-Quran (Free) : 10,000,000+\n",
      "Al Quran (Tafsir & by Word) : 500,000+\n",
      "Al Quran Indonesia : 10,000,000+\n",
      "Al'Quran Bahasa Indonesia : 10,000,000+\n",
      "Al Quran Al karim : 1,000,000+\n",
      "Al-Muhaffiz : 50,000+\n",
      "Al Quran : EAlim - Translations & MP3 Offline : 5,000,000+\n",
      "Al-Quran 30 Juz free copies : 500,000+\n",
      "Koran Read &MP3 30 Juz Offline : 1,000,000+\n",
      "Hafizi Quran 15 lines per page : 1,000,000+\n",
      "Quran for Android : 10,000,000+\n",
      "Surah Al-Waqiah : 100,000+\n",
      "Hisnul Al Muslim - Hisn Invocations & Adhkaar : 100,000+\n",
      "Satellite AR : 1,000,000+\n",
      "Audiobooks from Audible : 100,000,000+\n",
      "Kinot & Eichah for Tisha B'Av : 10,000+\n",
      "AW Tozer Devotionals - Daily : 5,000+\n",
      "Tozer Devotional -Series 1 : 1,000+\n",
      "The Pursuit of God : 1,000+\n",
      "AY Sing : 5,000+\n",
      "Ay Hasnain k Nana Milad Naat : 10,000+\n",
      "Ay Mohabbat Teri Khatir Novel : 10,000+\n",
      "Arizona Statutes, ARS (AZ Law) : 1,000+\n",
      "Oxford A-Z of English Usage : 1,000,000+\n",
      "BD Fishpedia : 1,000+\n",
      "BD All Sim Offer : 10,000+\n",
      "Youboox - Livres, BD et magazines : 500,000+\n",
      "B&H Kids AR : 10,000+\n",
      "B y H Niños ES : 5,000+\n",
      "Dictionary.com: Find Definitions for English Words : 10,000,000+\n",
      "English Dictionary - Offline : 10,000,000+\n",
      "Bible KJV : 5,000,000+\n",
      "Borneo Bible, BM Bible : 10,000+\n",
      "MOD Black for BM : 100+\n",
      "BM Box : 1,000+\n",
      "Anime Mod for BM : 100+\n",
      "NOOK: Read eBooks & Magazines : 10,000,000+\n",
      "NOOK Audiobooks : 500,000+\n",
      "NOOK App for NOOK Devices : 500,000+\n",
      "Browsery by Barnes & Noble : 5,000+\n",
      "bp e-store : 1,000+\n",
      "Brilliant Quotes: Life, Love, Family & Motivation : 1,000,000+\n",
      "BR Ambedkar Biography & Quotes : 10,000+\n",
      "BU Alsace : 100+\n",
      "Catholic La Bu Zo Kam : 500+\n",
      "Khrifa Hla Bu (Solfa) : 10+\n",
      "Kristian Hla Bu : 10,000+\n",
      "SA HLA BU : 1,000+\n",
      "Learn SAP BW : 500+\n",
      "Learn SAP BW on HANA : 500+\n",
      "CA Laws 2018 (California Laws and Codes) : 5,000+\n",
      "Bootable Methods(USB-CD-DVD) : 10,000+\n",
      "cloudLibrary : 100,000+\n",
      "SDA Collegiate Quarterly : 500+\n",
      "Sabbath School : 100,000+\n",
      "Cypress College Library : 100+\n",
      "Stats Royale for Clash Royale : 1,000,000+\n",
      "GATE 21 years CS Papers(2011-2018 Solved) : 50+\n",
      "Learn CT Scan Of Head : 5,000+\n",
      "Easy Cv maker 2018 : 10,000+\n",
      "How to Write CV : 100,000+\n",
      "CW Nuclear : 1,000+\n",
      "CY Spray nozzle : 10+\n",
      "BibleRead En Cy Zh Yue : 5+\n",
      "CZ-Help : 5+\n",
      "Modlitební knížka CZ : 500+\n",
      "Guide for DB Xenoverse : 10,000+\n",
      "Guide for DB Xenoverse 2 : 10,000+\n",
      "Guide for IMS DB : 10+\n",
      "DC HSEMA : 5,000+\n",
      "DC Public Library : 1,000+\n",
      "Painting Lulu DC Super Friends : 1,000+\n",
      "Dictionary : 10,000,000+\n",
      "Fix Error Google Playstore : 1,000+\n",
      "D. H. Lawrence Poems FREE : 1,000+\n",
      "Bilingual Dictionary Audio App : 5,000+\n",
      "DM Screen : 10,000+\n",
      "wikiHow: how to do anything : 1,000,000+\n",
      "Dr. Doug's Tips : 1,000+\n",
      "Bible du Semeur-BDS (French) : 50,000+\n",
      "La citadelle du musulman : 50,000+\n",
      "DV 2019 Entry Guide : 10,000+\n",
      "DV 2019 - EDV Photo & Form : 50,000+\n",
      "DV 2018 Winners Guide : 1,000+\n",
      "EB Annual Meetings : 1,000+\n",
      "EC - AP & Telangana : 5,000+\n",
      "TN Patta Citta & EC : 10,000+\n",
      "AP Stamps and Registration : 10,000+\n",
      "CompactiMa EC pH Calibration : 100+\n",
      "EGW Writings 2 : 100,000+\n",
      "EGW Writings : 1,000,000+\n",
      "Bible with EGW Comments : 100,000+\n",
      "My Little Pony AR Guide : 1,000,000+\n",
      "SDA Sabbath School Quarterly : 500,000+\n",
      "Duaa Ek Ibaadat : 5,000+\n",
      "Spanish English Translator : 10,000,000+\n",
      "Dictionary - Merriam-Webster : 10,000,000+\n",
      "JW Library : 10,000,000+\n",
      "Oxford Dictionary of English : Free : 10,000,000+\n",
      "English Hindi Dictionary : 10,000,000+\n",
      "English to Hindi Dictionary : 5,000,000+\n",
      "EP Research Service : 1,000+\n",
      "Hymnes et Louanges : 100,000+\n",
      "EU Charter : 1,000+\n",
      "EU Data Protection : 1,000+\n",
      "EU IP Codes : 100+\n",
      "EW PDF : 5+\n",
      "BakaReader EX : 100,000+\n",
      "EZ Quran : 50,000+\n",
      "FA Part 1 & 2 Past Papers Solved Free – Offline : 5,000+\n",
      "La Fe de Jesus : 1,000+\n",
      "La Fe de Jesús : 500+\n",
      "Le Fe de Jesus : 500+\n",
      "Florida - Pocket Brainbook : 1,000+\n",
      "Florida Statutes (FL Code) : 1,000+\n",
      "English To Shona Dictionary : 10,000+\n",
      "Greek Bible FP (Audio) : 1,000+\n",
      "Golden Dictionary (FR-AR) : 500,000+\n",
      "Fanfic-FR : 5,000+\n",
      "Bulgarian French Dictionary Fr : 10,000+\n",
      "Chemin (fr) : 1,000+\n",
      "The SCP Foundation DB fr nn5n : 1,000+\n"
     ]
    }
   ],
   "source": [
    "for app in android_final:\n",
    "    if app[1] == 'BOOKS_AND_REFERENCE':\n",
    "        print(app[0], ':', app[5])"
   ]
  },
  {
   "cell_type": "markdown",
   "id": "81787795-ce5c-4150-a122-fa8ca99700be",
   "metadata": {},
   "source": [
    "The Books & Reference genre encompasses a diverse range of applications, including those designed for ebook processing and reading, library collections, dictionaries, and programming or language tutorials. However, a similar trend to other genres is observed: a small number of highly popular applications appear to skew the average install count."
   ]
  },
  {
   "cell_type": "code",
   "execution_count": 105,
   "id": "b8442061-f33c-43bf-ab11-eb17ac31c895",
   "metadata": {},
   "outputs": [
    {
     "name": "stdout",
     "output_type": "stream",
     "text": [
      "Google Play Books : 1,000,000,000+\n",
      "Bible : 100,000,000+\n",
      "Amazon Kindle : 100,000,000+\n",
      "Wattpad 📖 Free Books : 100,000,000+\n",
      "Audiobooks from Audible : 100,000,000+\n"
     ]
    }
   ],
   "source": [
    "for app in android_final:\n",
    "    if app[1] == 'BOOKS_AND_REFERENCE' and (app[5] == '1,000,000,000+'\n",
    "                                            or app[5] == '500,000,000+'\n",
    "                                            or app[5] == '100,000,000+'):\n",
    "        print(app[0], ':', app[5])"
   ]
  },
  {
   "cell_type": "markdown",
   "id": "fab3f918-3306-44d0-8112-5f2f72e1fa2a",
   "metadata": {},
   "source": [
    "While a small number of applications dominate the Books & Reference genre, the overall market exhibits potential. Let's focus on identifying app ideas inspired by applications with moderate install numbers, ranging from 1 million to 100 million downloads:"
   ]
  },
  {
   "cell_type": "code",
   "execution_count": 109,
   "id": "32655fcd-957a-4dd8-aaae-e338e0899bb8",
   "metadata": {},
   "outputs": [
    {
     "name": "stdout",
     "output_type": "stream",
     "text": [
      "Wikipedia : 10,000,000+\n",
      "Cool Reader : 10,000,000+\n",
      "Book store : 1,000,000+\n",
      "FBReader: Favorite Book Reader : 10,000,000+\n",
      "Free Books - Spirit Fanfiction and Stories : 1,000,000+\n",
      "AlReader -any text book reader : 5,000,000+\n",
      "FamilySearch Tree : 1,000,000+\n",
      "Cloud of Books : 1,000,000+\n",
      "ReadEra – free ebook reader : 1,000,000+\n",
      "Ebook Reader : 5,000,000+\n",
      "Read books online : 5,000,000+\n",
      "eBoox: book reader fb2 epub zip : 1,000,000+\n",
      "All Maths Formulas : 1,000,000+\n",
      "Ancestry : 5,000,000+\n",
      "HTC Help : 10,000,000+\n",
      "Moon+ Reader : 10,000,000+\n",
      "English-Myanmar Dictionary : 1,000,000+\n",
      "Golden Dictionary (EN-AR) : 1,000,000+\n",
      "All Language Translator Free : 1,000,000+\n",
      "Aldiko Book Reader : 10,000,000+\n",
      "Dictionary - WordWeb : 5,000,000+\n",
      "50000 Free eBooks & Free AudioBooks : 5,000,000+\n",
      "Al-Quran (Free) : 10,000,000+\n",
      "Al Quran Indonesia : 10,000,000+\n",
      "Al'Quran Bahasa Indonesia : 10,000,000+\n",
      "Al Quran Al karim : 1,000,000+\n",
      "Al Quran : EAlim - Translations & MP3 Offline : 5,000,000+\n",
      "Koran Read &MP3 30 Juz Offline : 1,000,000+\n",
      "Hafizi Quran 15 lines per page : 1,000,000+\n",
      "Quran for Android : 10,000,000+\n",
      "Satellite AR : 1,000,000+\n",
      "Oxford A-Z of English Usage : 1,000,000+\n",
      "Dictionary.com: Find Definitions for English Words : 10,000,000+\n",
      "English Dictionary - Offline : 10,000,000+\n",
      "Bible KJV : 5,000,000+\n",
      "NOOK: Read eBooks & Magazines : 10,000,000+\n",
      "Brilliant Quotes: Life, Love, Family & Motivation : 1,000,000+\n",
      "Stats Royale for Clash Royale : 1,000,000+\n",
      "Dictionary : 10,000,000+\n",
      "wikiHow: how to do anything : 1,000,000+\n",
      "EGW Writings : 1,000,000+\n",
      "My Little Pony AR Guide : 1,000,000+\n",
      "Spanish English Translator : 10,000,000+\n",
      "Dictionary - Merriam-Webster : 10,000,000+\n",
      "JW Library : 10,000,000+\n",
      "Oxford Dictionary of English : Free : 10,000,000+\n",
      "English Hindi Dictionary : 10,000,000+\n",
      "English to Hindi Dictionary : 5,000,000+\n"
     ]
    }
   ],
   "source": [
    "for app in android_final:\n",
    "    if app[1] == 'BOOKS_AND_REFERENCE' and (app[5] == '1,000,000+'\n",
    "                                            or app[5] == '5,000,000+'\n",
    "                                            or app[5] == '10,000,000+'\n",
    "                                            or app[5] == '50,000,000+'):\n",
    "        print(app[0], ':', app[5])"
   ]
  },
  {
   "cell_type": "markdown",
   "id": "629ddd97-8625-4f4e-942f-3b2f309d9cfb",
   "metadata": {},
   "source": [
    "Within Books & Reference, ebook readers, library collections, and dictionaries appear dominant. Developing similar apps might face stiff competition. Interestingly, several Quran-based apps suggest profitability in building apps around popular books.\n",
    "\n",
    "This concept aligns with our earlier App Store analysis – transforming a well-known book (perhaps a recent one) into an app with engaging features could be profitable for both platforms. However, simply offering the raw text wouldn't suffice. To stand out, we should consider features like daily quotes, audiobooks, quizzes for knowledge assessment, and even a discussion forum to foster community engagement."
   ]
  },
  {
   "cell_type": "markdown",
   "id": "6cd15a25-8c74-4654-a0c5-b8dd1602c2bc",
   "metadata": {},
   "source": [
    "# Summary\n",
    "Our analysis of both App Store and Google Play data suggests a promising app concept: an interactive book app. This app would leverage the popularity of a well-known book, potentially a recent release, and transform it into an engaging mobile experience.\n",
    "\n",
    "Since the market is saturated with traditional library apps, our app would differentiate itself by offering features beyond the raw text.  This could include daily quotes, an audiobook version, quizzes to test user knowledge, and a dedicated forum for book discussions, fostering a sense of community among users."
   ]
  }
 ],
 "metadata": {
  "kernelspec": {
   "display_name": "Python 3 (ipykernel)",
   "language": "python",
   "name": "python3"
  },
  "language_info": {
   "codemirror_mode": {
    "name": "ipython",
    "version": 3
   },
   "file_extension": ".py",
   "mimetype": "text/x-python",
   "name": "python",
   "nbconvert_exporter": "python",
   "pygments_lexer": "ipython3",
   "version": "3.11.7"
  }
 },
 "nbformat": 4,
 "nbformat_minor": 5
}
